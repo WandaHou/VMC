{
 "cells": [
  {
   "cell_type": "code",
   "execution_count": 1,
   "id": "5c817fab-1496-4ae5-80ce-ed85c46d7484",
   "metadata": {},
   "outputs": [
    {
     "name": "stderr",
     "output_type": "stream",
     "text": [
      "/Users/hwanda/VMC/VMCstates.py:968: SyntaxWarning: \"is\" with a literal. Did you mean \"==\"?\n",
      "  if q0s is 0:\n",
      "/Users/hwanda/VMC/VMCstates.py:1090: SyntaxWarning: \"is\" with a literal. Did you mean \"==\"?\n",
      "  if q0 is 0:\n"
     ]
    }
   ],
   "source": [
    "%run 'VMCstates.py'\n",
    "import time"
   ]
  },
  {
   "cell_type": "markdown",
   "id": "c12f3324-eda6-4fdb-92d0-e6a00e0248a7",
   "metadata": {
    "tags": []
   },
   "source": [
    "## VariationalStates"
   ]
  },
  {
   "cell_type": "markdown",
   "id": "07d5193e-bce0-454b-a236-67e82f959e46",
   "metadata": {
    "tags": []
   },
   "source": [
    "#### initiate states"
   ]
  },
  {
   "cell_type": "code",
   "execution_count": 3,
   "id": "fb6ed6a5-7e1b-4876-b1bf-74d950e75ab8",
   "metadata": {},
   "outputs": [
    {
     "data": {
      "text/plain": [
       "VariationalStates([[0, 1, 2, 3], [4, 5, 6, 7], [0, 1, 6, 7], [0, 5, 2, 3]])"
      ]
     },
     "execution_count": 3,
     "metadata": {},
     "output_type": "execute_result"
    }
   ],
   "source": [
    "mdl = VariationalModel(1)\n",
    "configs = []\n",
    "configs.append(Configuration([0, 1, 2, 3]))\n",
    "configs.append(Configuration([4, 5, 6, 7]))\n",
    "configs.append(Configuration([0, 1, 6, 7]))\n",
    "configs.append(Configuration([0, 5, 2, 3]))\n",
    "VariationalStates(mdl, configs)"
   ]
  },
  {
   "cell_type": "code",
   "execution_count": 4,
   "id": "e4215d9b-f74d-40f1-b5f3-7612f020f03e",
   "metadata": {},
   "outputs": [
    {
     "data": {
      "text/plain": [
       "VariationalStates([[0, 5, 2, 7], [4, 1, 6, 7], [4, 5, 6, 7], [4, 5, 2, 3]])"
      ]
     },
     "execution_count": 4,
     "metadata": {},
     "output_type": "execute_result"
    }
   ],
   "source": [
    "states = mdl.states(wlks=4)\n",
    "states"
   ]
  },
  {
   "cell_type": "code",
   "execution_count": 5,
   "id": "5487acdb-b100-42a6-b6b3-da45c7c0b6ba",
   "metadata": {},
   "outputs": [
    {
     "data": {
      "text/plain": [
       "[[0, 5, 2, 7], [4, 1, 6, 7], [4, 5, 6, 7], [4, 5, 2, 3]]"
      ]
     },
     "execution_count": 5,
     "metadata": {},
     "output_type": "execute_result"
    }
   ],
   "source": [
    "states1 = states.clone()\n",
    "states1.configs"
   ]
  },
  {
   "cell_type": "code",
   "execution_count": 6,
   "id": "4be0bbd3-d1d5-402d-a411-97383ea686d7",
   "metadata": {},
   "outputs": [
    {
     "data": {
      "text/plain": [
       "[VariationalState([0, 5, 2, 7]),\n",
       " VariationalState([4, 1, 6, 7]),\n",
       " VariationalState([4, 5, 6, 7]),\n",
       " VariationalState([4, 5, 2, 3])]"
      ]
     },
     "execution_count": 6,
     "metadata": {},
     "output_type": "execute_result"
    }
   ],
   "source": [
    "ref = states.split()\n",
    "ref"
   ]
  },
  {
   "cell_type": "code",
   "execution_count": 7,
   "id": "0167f999-14e7-43c6-8d99-90d7e074f848",
   "metadata": {},
   "outputs": [
    {
     "data": {
      "text/plain": [
       "VariationalStates([[0, 5, 2, 7], [4, 1, 6, 7], [4, 5, 6, 7], [4, 5, 2, 3]])"
      ]
     },
     "execution_count": 7,
     "metadata": {},
     "output_type": "execute_result"
    }
   ],
   "source": [
    "states"
   ]
  },
  {
   "cell_type": "markdown",
   "id": "fc3cd35e-dab1-4182-80bb-80510a236e08",
   "metadata": {
    "tags": []
   },
   "source": [
    "### To compare"
   ]
  },
  {
   "cell_type": "markdown",
   "id": "f48d3ba3-de32-41ec-a47a-c7a81061e8ef",
   "metadata": {
    "tags": []
   },
   "source": [
    "#### qi"
   ]
  },
  {
   "cell_type": "code",
   "execution_count": 8,
   "id": "492f5409-b369-4db9-a5d0-bb11f7cc3670",
   "metadata": {},
   "outputs": [
    {
     "name": "stdout",
     "output_type": "stream",
     "text": [
      "tensor([[ 0,  2],\n",
      "        [ 0, -2]])\n",
      "tensor([[ 1, -1],\n",
      "        [-1,  1]])\n",
      "tensor([[0, 0],\n",
      "        [0, 0]])\n",
      "tensor([[-2,  0],\n",
      "        [ 2,  0]])\n"
     ]
    }
   ],
   "source": [
    "for state in ref:\n",
    "    print(state.qi)"
   ]
  },
  {
   "cell_type": "code",
   "execution_count": 9,
   "id": "5870346c-e690-4f02-9517-a4dfa3f3b2d1",
   "metadata": {},
   "outputs": [
    {
     "data": {
      "text/plain": [
       "tensor([[[ 0,  2],\n",
       "         [ 0, -2]],\n",
       "\n",
       "        [[ 1, -1],\n",
       "         [-1,  1]],\n",
       "\n",
       "        [[ 0,  0],\n",
       "         [ 0,  0]],\n",
       "\n",
       "        [[-2,  0],\n",
       "         [ 2,  0]]])"
      ]
     },
     "execution_count": 9,
     "metadata": {},
     "output_type": "execute_result"
    }
   ],
   "source": [
    "states.qis"
   ]
  },
  {
   "cell_type": "markdown",
   "id": "2712c124-ab3c-44cc-992b-9419b8679132",
   "metadata": {
    "tags": []
   },
   "source": [
    "#### W"
   ]
  },
  {
   "cell_type": "code",
   "execution_count": 10,
   "id": "cc96a7bd-80d9-44fb-89fc-89b1873192ff",
   "metadata": {},
   "outputs": [
    {
     "name": "stdout",
     "output_type": "stream",
     "text": [
      "tensor([[ 1.0000e+00,  0.0000e+00,  0.0000e+00,  0.0000e+00],\n",
      "        [-1.9429e-16,  1.4142e+00, -1.5266e-16, -1.0000e+00],\n",
      "        [-8.6736e-18,  5.5511e-17,  1.0000e+00, -3.4694e-17],\n",
      "        [-1.2490e-16, -1.0000e+00, -2.4980e-16,  1.4142e+00],\n",
      "        [ 1.4142e+00,  4.7184e-16,  1.0000e+00, -3.1919e-16],\n",
      "        [-2.7756e-17,  1.0000e+00, -2.7756e-17, -5.5511e-17],\n",
      "        [ 1.0000e+00,  8.0491e-16,  1.4142e+00, -3.8164e-16],\n",
      "        [-1.3878e-17,  0.0000e+00,  0.0000e+00,  1.0000e+00]],\n",
      "       dtype=torch.float64, grad_fn=<MmBackward0>)\n",
      "tensor([[ 1.4142e+00,  1.9107e-16, -1.0000e+00,  4.8168e-17],\n",
      "        [ 0.0000e+00,  1.0000e+00,  2.7756e-17,  5.5511e-17],\n",
      "        [-1.0000e+00, -3.8164e-16,  1.4142e+00, -9.7145e-17],\n",
      "        [ 0.0000e+00, -7.0711e-01, -2.5674e-16,  7.0711e-01],\n",
      "        [ 1.0000e+00,  1.1796e-16, -9.3675e-17, -2.7756e-17],\n",
      "        [ 0.0000e+00,  7.0711e-01,  1.1102e-16,  7.0711e-01],\n",
      "        [ 0.0000e+00,  4.1633e-17,  1.0000e+00,  6.9389e-17],\n",
      "        [ 0.0000e+00,  5.5511e-17, -2.7756e-17,  1.0000e+00]],\n",
      "       dtype=torch.float64, grad_fn=<MmBackward0>)\n",
      "tensor([[ 1.4142e+00,  2.0831e-16, -1.0000e+00, -2.6875e-17],\n",
      "        [ 0.0000e+00,  1.4142e+00, -2.4980e-16, -1.0000e+00],\n",
      "        [-1.0000e+00, -5.1348e-16,  1.4142e+00,  1.8735e-16],\n",
      "        [ 0.0000e+00, -1.0000e+00, -6.9389e-17,  1.4142e+00],\n",
      "        [ 1.0000e+00,  1.2490e-16, -4.8572e-17, -4.1633e-17],\n",
      "        [ 0.0000e+00,  1.0000e+00, -8.3267e-17, -1.1102e-16],\n",
      "        [ 0.0000e+00,  1.1102e-16,  1.0000e+00, -4.8572e-17],\n",
      "        [ 0.0000e+00, -1.1102e-16, -4.1633e-17,  1.0000e+00]],\n",
      "       dtype=torch.float64, grad_fn=<MmBackward0>)\n",
      "tensor([[ 7.0711e-01, -1.1444e-16, -7.0711e-01,  1.1444e-16],\n",
      "        [-9.7145e-17,  7.0711e-01, -9.7145e-17, -7.0711e-01],\n",
      "        [ 1.2143e-16, -2.7756e-17,  1.0000e+00,  8.6736e-17],\n",
      "        [-5.2042e-17,  5.5511e-17, -5.2042e-17,  1.0000e+00],\n",
      "        [ 1.0000e+00, -1.3878e-17,  7.6328e-17,  6.9389e-18],\n",
      "        [ 0.0000e+00,  1.0000e+00,  0.0000e+00,  0.0000e+00],\n",
      "        [ 7.0711e-01,  2.2204e-16,  7.0711e-01,  1.3878e-17],\n",
      "        [ 1.3878e-17,  7.0711e-01,  1.3878e-17,  7.0711e-01]],\n",
      "       dtype=torch.float64, grad_fn=<MmBackward0>)\n"
     ]
    }
   ],
   "source": [
    "for state in ref:\n",
    "    print(state.W)"
   ]
  },
  {
   "cell_type": "code",
   "execution_count": 11,
   "id": "658f158e-9934-494b-80ff-38c3a91799b8",
   "metadata": {},
   "outputs": [
    {
     "data": {
      "text/plain": [
       "tensor([[[ 1.0000e+00,  0.0000e+00,  0.0000e+00,  0.0000e+00],\n",
       "         [-1.9429e-16,  1.4142e+00, -1.5266e-16, -1.0000e+00],\n",
       "         [-8.6736e-18,  5.5511e-17,  1.0000e+00, -3.4694e-17],\n",
       "         [-1.2490e-16, -1.0000e+00, -2.4980e-16,  1.4142e+00],\n",
       "         [ 1.4142e+00,  4.7184e-16,  1.0000e+00, -3.1919e-16],\n",
       "         [-2.7756e-17,  1.0000e+00, -2.7756e-17, -5.5511e-17],\n",
       "         [ 1.0000e+00,  8.0491e-16,  1.4142e+00, -3.8164e-16],\n",
       "         [-1.3878e-17,  0.0000e+00,  0.0000e+00,  1.0000e+00]],\n",
       "\n",
       "        [[ 1.4142e+00,  1.9107e-16, -1.0000e+00,  4.8168e-17],\n",
       "         [ 0.0000e+00,  1.0000e+00,  2.7756e-17,  5.5511e-17],\n",
       "         [-1.0000e+00, -3.8164e-16,  1.4142e+00, -9.7145e-17],\n",
       "         [ 0.0000e+00, -7.0711e-01, -2.5674e-16,  7.0711e-01],\n",
       "         [ 1.0000e+00,  1.1796e-16, -9.3675e-17, -2.7756e-17],\n",
       "         [ 0.0000e+00,  7.0711e-01,  1.1102e-16,  7.0711e-01],\n",
       "         [ 0.0000e+00,  4.1633e-17,  1.0000e+00,  6.9389e-17],\n",
       "         [ 0.0000e+00,  5.5511e-17, -2.7756e-17,  1.0000e+00]],\n",
       "\n",
       "        [[ 1.4142e+00,  2.0831e-16, -1.0000e+00, -2.6875e-17],\n",
       "         [ 0.0000e+00,  1.4142e+00, -2.4980e-16, -1.0000e+00],\n",
       "         [-1.0000e+00, -5.1348e-16,  1.4142e+00,  1.8735e-16],\n",
       "         [ 0.0000e+00, -1.0000e+00, -6.9389e-17,  1.4142e+00],\n",
       "         [ 1.0000e+00,  1.2490e-16, -4.8572e-17, -4.1633e-17],\n",
       "         [ 0.0000e+00,  1.0000e+00, -8.3267e-17, -1.1102e-16],\n",
       "         [ 0.0000e+00,  1.1102e-16,  1.0000e+00, -4.8572e-17],\n",
       "         [ 0.0000e+00, -1.1102e-16, -4.1633e-17,  1.0000e+00]],\n",
       "\n",
       "        [[ 7.0711e-01, -1.1444e-16, -7.0711e-01,  1.1444e-16],\n",
       "         [-9.7145e-17,  7.0711e-01, -9.7145e-17, -7.0711e-01],\n",
       "         [ 1.2143e-16, -2.7756e-17,  1.0000e+00,  8.6736e-17],\n",
       "         [-5.2042e-17,  5.5511e-17, -5.2042e-17,  1.0000e+00],\n",
       "         [ 1.0000e+00, -1.3878e-17,  7.6328e-17,  6.9389e-18],\n",
       "         [ 0.0000e+00,  1.0000e+00,  0.0000e+00,  0.0000e+00],\n",
       "         [ 7.0711e-01,  2.2204e-16,  7.0711e-01,  1.3878e-17],\n",
       "         [ 1.3878e-17,  7.0711e-01,  1.3878e-17,  7.0711e-01]]],\n",
       "       dtype=torch.float64, grad_fn=<BmmBackward0>)"
      ]
     },
     "execution_count": 11,
     "metadata": {},
     "output_type": "execute_result"
    }
   ],
   "source": [
    "states.Ws"
   ]
  },
  {
   "cell_type": "markdown",
   "id": "7c0a9988-2b1c-43e4-aa90-37c6f6bd4613",
   "metadata": {
    "tags": []
   },
   "source": [
    "#### logdet"
   ]
  },
  {
   "cell_type": "code",
   "execution_count": 12,
   "id": "9657e994-ad80-4a29-955a-31fedb389612",
   "metadata": {},
   "outputs": [
    {
     "name": "stdout",
     "output_type": "stream",
     "text": [
      "tensor(-2.0794, dtype=torch.float64, grad_fn=<LinalgSlogdetBackward0>)\n",
      "tensor(-1.7329, dtype=torch.float64, grad_fn=<LinalgSlogdetBackward0>)\n",
      "tensor(-2.0794, dtype=torch.float64, grad_fn=<LinalgSlogdetBackward0>)\n",
      "tensor(-1.3863, dtype=torch.float64, grad_fn=<LinalgSlogdetBackward0>)\n"
     ]
    }
   ],
   "source": [
    "for state in ref:\n",
    "    print(state.logdet)"
   ]
  },
  {
   "cell_type": "code",
   "execution_count": 13,
   "id": "f873c46e-e2fd-47cd-aebf-a1af84552d66",
   "metadata": {},
   "outputs": [
    {
     "data": {
      "text/plain": [
       "tensor([-2.0794, -1.7329, -2.0794, -1.3863], dtype=torch.float64,\n",
       "       grad_fn=<LinalgSlogdetBackward0>)"
      ]
     },
     "execution_count": 13,
     "metadata": {},
     "output_type": "execute_result"
    }
   ],
   "source": [
    "states.logdets"
   ]
  },
  {
   "cell_type": "markdown",
   "id": "58e87156-1b14-407d-84ae-322661fec5f2",
   "metadata": {
    "tags": []
   },
   "source": [
    "#### det"
   ]
  },
  {
   "cell_type": "code",
   "execution_count": 14,
   "id": "aa0d02ba-2d3c-4b39-8e8f-ee8fb7ffb716",
   "metadata": {},
   "outputs": [
    {
     "name": "stdout",
     "output_type": "stream",
     "text": [
      "tensor(-0.1250, dtype=torch.float64, grad_fn=<MulBackward0>)\n",
      "tensor(-0.1768, dtype=torch.float64, grad_fn=<MulBackward0>)\n",
      "tensor(-0.1250, dtype=torch.float64, grad_fn=<MulBackward0>)\n",
      "tensor(-0.2500, dtype=torch.float64, grad_fn=<MulBackward0>)\n"
     ]
    }
   ],
   "source": [
    "for state in ref:\n",
    "    print(state.det)"
   ]
  },
  {
   "cell_type": "code",
   "execution_count": 15,
   "id": "cbc0fba2-c478-485a-8857-9441d513f9a8",
   "metadata": {},
   "outputs": [
    {
     "data": {
      "text/plain": [
       "tensor([-0.1250, -0.1768, -0.1250, -0.2500], dtype=torch.float64,\n",
       "       grad_fn=<MulBackward0>)"
      ]
     },
     "execution_count": 15,
     "metadata": {},
     "output_type": "execute_result"
    }
   ],
   "source": [
    "states.dets"
   ]
  },
  {
   "cell_type": "markdown",
   "id": "3d745298-c105-4e04-bc01-ee6543d9dfc7",
   "metadata": {
    "tags": []
   },
   "source": [
    "#### sign"
   ]
  },
  {
   "cell_type": "code",
   "execution_count": 16,
   "id": "6b3ac48f-cb22-407b-9cda-cf4362301f19",
   "metadata": {},
   "outputs": [
    {
     "name": "stdout",
     "output_type": "stream",
     "text": [
      "tensor(-1., dtype=torch.float64)\n",
      "tensor(-1., dtype=torch.float64)\n",
      "tensor(-1., dtype=torch.float64)\n",
      "tensor(-1., dtype=torch.float64)\n"
     ]
    }
   ],
   "source": [
    "for state in ref:\n",
    "    print(state.sign)"
   ]
  },
  {
   "cell_type": "code",
   "execution_count": 17,
   "id": "c06b94c8-f0e9-45ef-9e57-2b5599852bc6",
   "metadata": {},
   "outputs": [
    {
     "data": {
      "text/plain": [
       "tensor([-1., -1., -1., -1.], dtype=torch.float64)"
      ]
     },
     "execution_count": 17,
     "metadata": {},
     "output_type": "execute_result"
    }
   ],
   "source": [
    "states.signs"
   ]
  },
  {
   "cell_type": "markdown",
   "id": "6ff76f21-32e8-480f-9e7f-3d04e97a39b1",
   "metadata": {
    "tags": []
   },
   "source": [
    "#### energy"
   ]
  },
  {
   "cell_type": "code",
   "execution_count": 18,
   "id": "60514409-2006-4aae-a093-0bbcfdee692a",
   "metadata": {},
   "outputs": [
    {
     "name": "stdout",
     "output_type": "stream",
     "text": [
      "tensor(6.4378, dtype=torch.float64, grad_fn=<AddBackward0>)\n",
      "tensor(6.4378, dtype=torch.float64, grad_fn=<AddBackward0>)\n",
      "tensor(6.4378, dtype=torch.float64, grad_fn=<AddBackward0>)\n",
      "tensor(6.4378, dtype=torch.float64, grad_fn=<AddBackward0>)\n"
     ]
    }
   ],
   "source": [
    "for state in ref:\n",
    "    print(state.energy)"
   ]
  },
  {
   "cell_type": "code",
   "execution_count": 19,
   "id": "b82c0456-3832-4337-8576-73e0f940e281",
   "metadata": {},
   "outputs": [
    {
     "data": {
      "text/plain": [
       "tensor([6.4378, 6.4378, 6.4378, 6.4378], dtype=torch.float64,\n",
       "       grad_fn=<AddBackward0>)"
      ]
     },
     "execution_count": 19,
     "metadata": {},
     "output_type": "execute_result"
    }
   ],
   "source": [
    "states.energys"
   ]
  },
  {
   "cell_type": "markdown",
   "id": "1685e1a9-29df-4118-a09f-b29f35dfa397",
   "metadata": {
    "tags": []
   },
   "source": [
    "#### logprob"
   ]
  },
  {
   "cell_type": "code",
   "execution_count": 20,
   "id": "15f80c83-b004-41a4-a9da-f5864ea9036c",
   "metadata": {},
   "outputs": [
    {
     "name": "stdout",
     "output_type": "stream",
     "text": [
      "tensor(-10.5966, dtype=torch.float64, grad_fn=<SubBackward0>)\n",
      "tensor(-9.9035, dtype=torch.float64, grad_fn=<SubBackward0>)\n",
      "tensor(-10.5966, dtype=torch.float64, grad_fn=<SubBackward0>)\n",
      "tensor(-9.2103, dtype=torch.float64, grad_fn=<SubBackward0>)\n"
     ]
    }
   ],
   "source": [
    "for state in ref:\n",
    "    print(state.logprob)"
   ]
  },
  {
   "cell_type": "code",
   "execution_count": 21,
   "id": "031f391f-fa92-48fe-bd3c-660f6254d63f",
   "metadata": {},
   "outputs": [
    {
     "data": {
      "text/plain": [
       "tensor([-10.5966,  -9.9035, -10.5966,  -9.2103], dtype=torch.float64,\n",
       "       grad_fn=<SubBackward0>)"
      ]
     },
     "execution_count": 21,
     "metadata": {},
     "output_type": "execute_result"
    }
   ],
   "source": [
    "states.logprobs"
   ]
  },
  {
   "cell_type": "markdown",
   "id": "005466d9-044f-41ab-af91-b82828d22c83",
   "metadata": {
    "tags": []
   },
   "source": [
    "#### replace and W-update"
   ]
  },
  {
   "cell_type": "code",
   "execution_count": 22,
   "id": "e845fe40-c7d0-4784-9800-adf505533b55",
   "metadata": {},
   "outputs": [
    {
     "data": {
      "text/plain": [
       "VariationalStates([[0, 1, 2, 3], [4, 5, 6, 7], [0, 1, 6, 7], [0, 5, 2, 3]])"
      ]
     },
     "execution_count": 22,
     "metadata": {},
     "output_type": "execute_result"
    }
   ],
   "source": [
    "configs = []\n",
    "configs.append(Configuration([0, 1, 2, 3]))\n",
    "configs.append(Configuration([4, 5, 6, 7]))\n",
    "configs.append(Configuration([0, 1, 6, 7]))\n",
    "configs.append(Configuration([0, 5, 2, 3]))\n",
    "sts = VariationalStates(mdl, configs)\n",
    "sts"
   ]
  },
  {
   "cell_type": "code",
   "execution_count": 23,
   "id": "073912fc-45ce-4f52-a79c-e2d927fc3436",
   "metadata": {},
   "outputs": [
    {
     "data": {
      "text/plain": [
       "tensor([[[ 1.0000e+00,  0.0000e+00,  0.0000e+00,  0.0000e+00],\n",
       "         [ 1.3878e-17,  1.0000e+00,  2.7756e-17,  2.2204e-16],\n",
       "         [ 3.1225e-17,  0.0000e+00,  1.0000e+00,  6.9389e-17],\n",
       "         [-6.9389e-18,  0.0000e+00,  2.0817e-17,  1.0000e+00],\n",
       "         [ 1.4142e+00,  2.7756e-16,  1.0000e+00,  4.1633e-17],\n",
       "         [ 3.8858e-16,  1.4142e+00,  4.7184e-16,  1.0000e+00],\n",
       "         [ 1.0000e+00,  6.1062e-16,  1.4142e+00,  3.3307e-16],\n",
       "         [ 3.6082e-16,  1.0000e+00,  5.2736e-16,  1.4142e+00]],\n",
       "\n",
       "        [[ 1.4142e+00,  2.0831e-16, -1.0000e+00, -2.6875e-17],\n",
       "         [ 0.0000e+00,  1.4142e+00, -2.4980e-16, -1.0000e+00],\n",
       "         [-1.0000e+00, -5.1348e-16,  1.4142e+00,  1.8735e-16],\n",
       "         [ 0.0000e+00, -1.0000e+00, -6.9389e-17,  1.4142e+00],\n",
       "         [ 1.0000e+00,  1.2490e-16, -4.8572e-17, -4.1633e-17],\n",
       "         [ 0.0000e+00,  1.0000e+00, -8.3267e-17, -1.1102e-16],\n",
       "         [ 0.0000e+00,  1.1102e-16,  1.0000e+00, -4.8572e-17],\n",
       "         [ 0.0000e+00, -1.1102e-16, -4.1633e-17,  1.0000e+00]],\n",
       "\n",
       "        [[ 1.0000e+00,  0.0000e+00,  0.0000e+00,  0.0000e+00],\n",
       "         [ 0.0000e+00,  1.0000e+00,  2.7756e-17,  5.5511e-17],\n",
       "         [-7.0711e-01, -2.7062e-16,  7.0711e-01, -6.9389e-17],\n",
       "         [ 0.0000e+00, -7.0711e-01, -2.5674e-16,  7.0711e-01],\n",
       "         [ 7.0711e-01,  6.9389e-18,  7.0711e-01, -5.5511e-17],\n",
       "         [ 0.0000e+00,  7.0711e-01,  1.1102e-16,  7.0711e-01],\n",
       "         [ 0.0000e+00,  4.1633e-17,  1.0000e+00,  6.9389e-17],\n",
       "         [ 0.0000e+00,  5.5511e-17, -2.7756e-17,  1.0000e+00]],\n",
       "\n",
       "        [[ 1.0000e+00,  0.0000e+00,  0.0000e+00,  0.0000e+00],\n",
       "         [-2.6368e-16,  7.0711e-01, -3.0531e-16, -7.0711e-01],\n",
       "         [ 5.5511e-17,  1.3878e-17,  1.0000e+00,  1.3878e-16],\n",
       "         [ 1.3878e-17,  0.0000e+00,  6.9389e-18,  1.0000e+00],\n",
       "         [ 1.4142e+00,  1.8041e-16,  1.0000e+00, -5.2042e-17],\n",
       "         [ 0.0000e+00,  1.0000e+00, -2.7756e-17, -5.5511e-17],\n",
       "         [ 1.0000e+00,  4.1633e-16,  1.4142e+00,  6.9389e-18],\n",
       "         [ 9.7145e-17,  7.0711e-01,  1.3878e-16,  7.0711e-01]]],\n",
       "       dtype=torch.float64, grad_fn=<BmmBackward0>)"
      ]
     },
     "execution_count": 23,
     "metadata": {},
     "output_type": "execute_result"
    }
   ],
   "source": [
    "sts.Ws"
   ]
  },
  {
   "cell_type": "code",
   "execution_count": 24,
   "id": "98be1955-ec4b-4f7f-a4da-1dcddada7caa",
   "metadata": {},
   "outputs": [
    {
     "data": {
      "text/plain": [
       "tensor([-10.5966, -10.5966,  -9.2103,  -9.9035], dtype=torch.float64,\n",
       "       grad_fn=<SubBackward0>)"
      ]
     },
     "execution_count": 24,
     "metadata": {},
     "output_type": "execute_result"
    }
   ],
   "source": [
    "sts.logprobs"
   ]
  },
  {
   "cell_type": "code",
   "execution_count": 25,
   "id": "63c9d427-9eec-4821-8451-e898d735853f",
   "metadata": {},
   "outputs": [
    {
     "data": {
      "text/plain": [
       "([2, 0], [1, 2], [1, 7])"
      ]
     },
     "execution_count": 25,
     "metadata": {},
     "output_type": "execute_result"
    }
   ],
   "source": [
    "need_updt = [2, 0]\n",
    "mode_srcs = [1, 2]\n",
    "mode_tgts = [1, 7]\n",
    "need_updt, mode_srcs, mode_tgts"
   ]
  },
  {
   "cell_type": "code",
   "execution_count": 26,
   "id": "e3cbcb9f-14f7-4a1b-9538-493489b676e0",
   "metadata": {},
   "outputs": [
    {
     "data": {
      "text/plain": [
       "VariationalStates([[0, 1, 7, 3], [4, 5, 6, 7], [0, 1, 6, 7], [0, 5, 2, 3]])"
      ]
     },
     "execution_count": 26,
     "metadata": {},
     "output_type": "execute_result"
    }
   ],
   "source": [
    "sts1 = sts.clone()\n",
    "sts1.replace(mode_srcs, mode_tgts, need_updt)"
   ]
  },
  {
   "cell_type": "code",
   "execution_count": 27,
   "id": "80005321-9b5f-42cf-bfcb-5da1e5fee2f4",
   "metadata": {},
   "outputs": [
    {
     "data": {
      "text/plain": [
       "tensor([-80.9539, -10.5966,  -9.2103,  -9.9035], dtype=torch.float64,\n",
       "       grad_fn=<SubBackward0>)"
      ]
     },
     "execution_count": 27,
     "metadata": {},
     "output_type": "execute_result"
    }
   ],
   "source": [
    "sts1.logprobs"
   ]
  },
  {
   "cell_type": "code",
   "execution_count": 28,
   "id": "c6885cb6-5b49-45c8-8260-8aaf08e5db2a",
   "metadata": {},
   "outputs": [
    {
     "data": {
      "text/plain": [
       "([2, 0], [1, 7], [1, 2])"
      ]
     },
     "execution_count": 28,
     "metadata": {},
     "output_type": "execute_result"
    }
   ],
   "source": [
    "sts1._temps"
   ]
  },
  {
   "cell_type": "code",
   "execution_count": 29,
   "id": "cb34be19-1a08-43ec-82dd-0a60f61fa819",
   "metadata": {},
   "outputs": [
    {
     "data": {
      "text/plain": [
       "tensor([[[ 1.0000e+00,  0.0000e+00,  0.0000e+00,  0.0000e+00],\n",
       "         [-5.1129e-18,  9.4737e-01,  5.2632e-02, -7.4432e-02],\n",
       "         [-6.8421e-01, -1.8963e+15,  1.8963e+15, -2.6817e+15],\n",
       "         [-2.1182e-17, -3.9474e-02,  3.9474e-02,  9.4418e-01],\n",
       "         [ 7.3000e-01, -1.8963e+15,  1.8963e+15, -2.6817e+15],\n",
       "         [ 6.5737e-17,  5.1948e-01,  8.9474e-01, -2.6535e-01],\n",
       "         [ 3.2380e-02, -2.6817e+15,  2.6817e+15, -3.7925e+15],\n",
       "         [ 0.0000e+00,  0.0000e+00,  1.0000e+00,  0.0000e+00]],\n",
       "\n",
       "        [[ 1.4142e+00,  2.0831e-16, -1.0000e+00, -2.6875e-17],\n",
       "         [ 0.0000e+00,  1.4142e+00, -2.4980e-16, -1.0000e+00],\n",
       "         [-1.0000e+00, -5.1348e-16,  1.4142e+00,  1.8735e-16],\n",
       "         [ 0.0000e+00, -1.0000e+00, -6.9389e-17,  1.4142e+00],\n",
       "         [ 1.0000e+00,  1.2490e-16, -4.8572e-17, -4.1633e-17],\n",
       "         [ 0.0000e+00,  1.0000e+00, -8.3267e-17, -1.1102e-16],\n",
       "         [ 0.0000e+00,  1.1102e-16,  1.0000e+00, -4.8572e-17],\n",
       "         [ 0.0000e+00, -1.1102e-16, -4.1633e-17,  1.0000e+00]],\n",
       "\n",
       "        [[ 1.0000e+00,  0.0000e+00,  0.0000e+00,  0.0000e+00],\n",
       "         [ 0.0000e+00,  1.0000e+00,  0.0000e+00,  0.0000e+00],\n",
       "         [-7.0711e-01, -2.7062e-16,  7.0711e-01, -6.9389e-17],\n",
       "         [ 0.0000e+00, -7.0711e-01, -2.3711e-16,  7.0711e-01],\n",
       "         [ 7.0711e-01,  6.9389e-18,  7.0711e-01, -5.5511e-17],\n",
       "         [ 0.0000e+00,  7.0711e-01,  9.1396e-17,  7.0711e-01],\n",
       "         [ 0.0000e+00,  4.1633e-17,  1.0000e+00,  6.9389e-17],\n",
       "         [ 0.0000e+00,  5.5511e-17, -2.7756e-17,  1.0000e+00]],\n",
       "\n",
       "        [[ 1.0000e+00,  0.0000e+00,  0.0000e+00,  0.0000e+00],\n",
       "         [-2.6368e-16,  7.0711e-01, -3.0531e-16, -7.0711e-01],\n",
       "         [ 5.5511e-17,  1.3878e-17,  1.0000e+00,  1.3878e-16],\n",
       "         [ 1.3878e-17,  0.0000e+00,  6.9389e-18,  1.0000e+00],\n",
       "         [ 1.4142e+00,  1.8041e-16,  1.0000e+00, -5.2042e-17],\n",
       "         [ 0.0000e+00,  1.0000e+00, -2.7756e-17, -5.5511e-17],\n",
       "         [ 1.0000e+00,  4.1633e-16,  1.4142e+00,  6.9389e-18],\n",
       "         [ 9.7145e-17,  7.0711e-01,  1.3878e-16,  7.0711e-01]]],\n",
       "       dtype=torch.float64, grad_fn=<UpdateWsBackward>)"
      ]
     },
     "execution_count": 29,
     "metadata": {},
     "output_type": "execute_result"
    }
   ],
   "source": [
    "sts1.Ws"
   ]
  },
  {
   "cell_type": "code",
   "execution_count": 30,
   "id": "b9460cf5-c4b6-418e-af1a-64e1333e8892",
   "metadata": {},
   "outputs": [
    {
     "data": {
      "text/plain": [
       "(VariationalState([0, 1, 2, 3]), VariationalState([0, 1, 6, 7]))"
      ]
     },
     "execution_count": 30,
     "metadata": {},
     "output_type": "execute_result"
    }
   ],
   "source": [
    "st1 = mdl.state(Configuration([0, 1, 2, 3]))\n",
    "st2 = mdl.state(Configuration([0, 1, 6, 7]))\n",
    "st1, st2"
   ]
  },
  {
   "cell_type": "code",
   "execution_count": 31,
   "id": "e080344a-2b1f-4967-b34b-fc95c3b50f70",
   "metadata": {},
   "outputs": [
    {
     "data": {
      "text/plain": [
       "(tensor([[ 1.0000e+00,  0.0000e+00,  0.0000e+00,  0.0000e+00],\n",
       "         [ 1.3878e-17,  1.0000e+00,  2.7756e-17,  2.2204e-16],\n",
       "         [ 3.1225e-17,  0.0000e+00,  1.0000e+00,  6.9389e-17],\n",
       "         [-6.9389e-18,  0.0000e+00,  2.0817e-17,  1.0000e+00],\n",
       "         [ 1.4142e+00,  2.7756e-16,  1.0000e+00,  4.1633e-17],\n",
       "         [ 3.8858e-16,  1.4142e+00,  4.7184e-16,  1.0000e+00],\n",
       "         [ 1.0000e+00,  6.1062e-16,  1.4142e+00,  3.3307e-16],\n",
       "         [ 3.6082e-16,  1.0000e+00,  5.2736e-16,  1.4142e+00]],\n",
       "        dtype=torch.float64, grad_fn=<MmBackward0>),\n",
       " tensor([[ 1.0000e+00,  0.0000e+00,  0.0000e+00,  0.0000e+00],\n",
       "         [ 0.0000e+00,  1.0000e+00,  2.7756e-17,  5.5511e-17],\n",
       "         [-7.0711e-01, -2.7062e-16,  7.0711e-01, -6.9389e-17],\n",
       "         [ 0.0000e+00, -7.0711e-01, -2.5674e-16,  7.0711e-01],\n",
       "         [ 7.0711e-01,  6.9389e-18,  7.0711e-01, -5.5511e-17],\n",
       "         [ 0.0000e+00,  7.0711e-01,  1.1102e-16,  7.0711e-01],\n",
       "         [ 0.0000e+00,  4.1633e-17,  1.0000e+00,  6.9389e-17],\n",
       "         [ 0.0000e+00,  5.5511e-17, -2.7756e-17,  1.0000e+00]],\n",
       "        dtype=torch.float64, grad_fn=<MmBackward0>))"
      ]
     },
     "execution_count": 31,
     "metadata": {},
     "output_type": "execute_result"
    }
   ],
   "source": [
    "st1.W, st2.W"
   ]
  },
  {
   "cell_type": "code",
   "execution_count": 32,
   "id": "df2386dd-9a55-4f6a-b433-fe4a649eae02",
   "metadata": {},
   "outputs": [
    {
     "data": {
      "text/plain": [
       "(VariationalState([0, 1, 7, 3]), VariationalState([0, 1, 6, 7]))"
      ]
     },
     "execution_count": 32,
     "metadata": {},
     "output_type": "execute_result"
    }
   ],
   "source": [
    "st1.replace(2, 7), st2.replace(1, 1)"
   ]
  },
  {
   "cell_type": "code",
   "execution_count": 33,
   "id": "deb6dc3e-e1ff-4327-a86a-cc9d266d5c7a",
   "metadata": {},
   "outputs": [
    {
     "data": {
      "text/plain": [
       "(tensor(-80.9539, dtype=torch.float64, grad_fn=<SubBackward0>),\n",
       " tensor(-9.2103, dtype=torch.float64, grad_fn=<SubBackward0>))"
      ]
     },
     "execution_count": 33,
     "metadata": {},
     "output_type": "execute_result"
    }
   ],
   "source": [
    "st1.logprob, st2.logprob"
   ]
  },
  {
   "cell_type": "code",
   "execution_count": 34,
   "id": "54d95c23-f4f1-4624-b343-1d9c5fd0b839",
   "metadata": {},
   "outputs": [
    {
     "data": {
      "text/plain": [
       "(tensor([[ 1.0000e+00,  0.0000e+00,  0.0000e+00,  0.0000e+00],\n",
       "         [-5.1129e-18,  9.4737e-01,  5.2632e-02, -7.4432e-02],\n",
       "         [-6.8421e-01, -1.8963e+15,  1.8963e+15, -2.6817e+15],\n",
       "         [-2.1182e-17, -3.9474e-02,  3.9474e-02,  9.4418e-01],\n",
       "         [ 7.3000e-01, -1.8963e+15,  1.8963e+15, -2.6817e+15],\n",
       "         [ 6.5737e-17,  5.1948e-01,  8.9474e-01, -2.6535e-01],\n",
       "         [ 3.2380e-02, -2.6817e+15,  2.6817e+15, -3.7925e+15],\n",
       "         [ 0.0000e+00,  0.0000e+00,  1.0000e+00,  0.0000e+00]],\n",
       "        dtype=torch.float64, grad_fn=<UpdateWBackward>),\n",
       " tensor([[ 1.0000e+00,  0.0000e+00,  0.0000e+00,  0.0000e+00],\n",
       "         [ 0.0000e+00,  1.0000e+00,  2.7756e-17,  5.5511e-17],\n",
       "         [-7.0711e-01, -2.7062e-16,  7.0711e-01, -6.9389e-17],\n",
       "         [ 0.0000e+00, -7.0711e-01, -2.5674e-16,  7.0711e-01],\n",
       "         [ 7.0711e-01,  6.9389e-18,  7.0711e-01, -5.5511e-17],\n",
       "         [ 0.0000e+00,  7.0711e-01,  1.1102e-16,  7.0711e-01],\n",
       "         [ 0.0000e+00,  4.1633e-17,  1.0000e+00,  6.9389e-17],\n",
       "         [ 0.0000e+00,  5.5511e-17, -2.7756e-17,  1.0000e+00]],\n",
       "        dtype=torch.float64, grad_fn=<MmBackward0>))"
      ]
     },
     "execution_count": 34,
     "metadata": {},
     "output_type": "execute_result"
    }
   ],
   "source": [
    "st1.W, st2.W"
   ]
  },
  {
   "cell_type": "code",
   "execution_count": 35,
   "id": "778b0f74-b8ba-40ed-b6cc-896d877942bd",
   "metadata": {},
   "outputs": [
    {
     "data": {
      "text/plain": [
       "(tensor([[ 1.0000e+00,  0.0000e+00,  0.0000e+00,  0.0000e+00],\n",
       "         [-5.1129e-18,  9.4737e-01,  5.2632e-02, -7.4432e-02],\n",
       "         [-6.8421e-01, -1.8963e+15,  1.8963e+15, -2.6817e+15],\n",
       "         [-2.1182e-17, -3.9474e-02,  3.9474e-02,  9.4418e-01],\n",
       "         [ 7.3000e-01, -1.8963e+15,  1.8963e+15, -2.6817e+15],\n",
       "         [ 6.5737e-17,  5.1948e-01,  8.9474e-01, -2.6535e-01],\n",
       "         [ 3.2380e-02, -2.6817e+15,  2.6817e+15, -3.7925e+15],\n",
       "         [ 0.0000e+00,  0.0000e+00,  1.0000e+00,  0.0000e+00]],\n",
       "        dtype=torch.float64, grad_fn=<UpdateWBackward>),\n",
       " tensor([[ 1.0000e+00,  0.0000e+00,  0.0000e+00,  0.0000e+00],\n",
       "         [ 0.0000e+00,  1.0000e+00,  2.7756e-17,  5.5511e-17],\n",
       "         [-7.0711e-01, -2.7062e-16,  7.0711e-01, -6.9389e-17],\n",
       "         [ 0.0000e+00, -7.0711e-01, -2.5674e-16,  7.0711e-01],\n",
       "         [ 7.0711e-01,  6.9389e-18,  7.0711e-01, -5.5511e-17],\n",
       "         [ 0.0000e+00,  7.0711e-01,  1.1102e-16,  7.0711e-01],\n",
       "         [ 0.0000e+00,  4.1633e-17,  1.0000e+00,  6.9389e-17],\n",
       "         [ 0.0000e+00,  5.5511e-17, -2.7756e-17,  1.0000e+00]],\n",
       "        dtype=torch.float64, grad_fn=<MmBackward0>),\n",
       " tensor([[ 1.0000e+00,  0.0000e+00,  0.0000e+00,  0.0000e+00],\n",
       "         [-5.1129e-18,  9.4737e-01,  5.2632e-02, -7.4432e-02],\n",
       "         [-6.8421e-01, -1.8963e+15,  1.8963e+15, -2.6817e+15],\n",
       "         [-2.1182e-17, -3.9474e-02,  3.9474e-02,  9.4418e-01],\n",
       "         [ 7.3000e-01, -1.8963e+15,  1.8963e+15, -2.6817e+15],\n",
       "         [ 6.5737e-17,  5.1948e-01,  8.9474e-01, -2.6535e-01],\n",
       "         [ 3.2380e-02, -2.6817e+15,  2.6817e+15, -3.7925e+15],\n",
       "         [ 0.0000e+00,  0.0000e+00,  1.0000e+00,  0.0000e+00]],\n",
       "        dtype=torch.float64, grad_fn=<SelectBackward0>),\n",
       " tensor([[ 1.0000e+00,  0.0000e+00,  0.0000e+00,  0.0000e+00],\n",
       "         [ 0.0000e+00,  1.0000e+00,  0.0000e+00,  0.0000e+00],\n",
       "         [-7.0711e-01, -2.7062e-16,  7.0711e-01, -6.9389e-17],\n",
       "         [ 0.0000e+00, -7.0711e-01, -2.3711e-16,  7.0711e-01],\n",
       "         [ 7.0711e-01,  6.9389e-18,  7.0711e-01, -5.5511e-17],\n",
       "         [ 0.0000e+00,  7.0711e-01,  9.1396e-17,  7.0711e-01],\n",
       "         [ 0.0000e+00,  4.1633e-17,  1.0000e+00,  6.9389e-17],\n",
       "         [ 0.0000e+00,  5.5511e-17, -2.7756e-17,  1.0000e+00]],\n",
       "        dtype=torch.float64, grad_fn=<SelectBackward0>))"
      ]
     },
     "execution_count": 35,
     "metadata": {},
     "output_type": "execute_result"
    }
   ],
   "source": [
    "st1.W, st2.W, sts1.Ws[0], sts1.Ws[2]"
   ]
  },
  {
   "cell_type": "markdown",
   "id": "e7c3bd6f-0263-4524-aad6-9536e6129544",
   "metadata": {
    "tags": []
   },
   "source": [
    "#### transprob"
   ]
  },
  {
   "cell_type": "code",
   "execution_count": 36,
   "id": "bd57e992-2f60-4fff-a6aa-b448b90604c0",
   "metadata": {},
   "outputs": [
    {
     "data": {
      "text/plain": [
       "tensor([[[1., 0., 0., 0.],\n",
       "         [0., 1., 0., 0.],\n",
       "         [0., 0., 1., 0.],\n",
       "         [0., 0., 0., 1.],\n",
       "         [1., 0., 0., 0.],\n",
       "         [0., 1., 0., 0.],\n",
       "         [0., 0., 1., 0.],\n",
       "         [0., 0., 0., 1.]],\n",
       "\n",
       "        [[1., 0., 0., 0.],\n",
       "         [0., 1., 0., 0.],\n",
       "         [0., 0., 1., 0.],\n",
       "         [0., 0., 0., 1.],\n",
       "         [1., 0., 0., 0.],\n",
       "         [0., 1., 0., 0.],\n",
       "         [0., 0., 1., 0.],\n",
       "         [0., 0., 0., 1.]],\n",
       "\n",
       "        [[1., 0., 0., 0.],\n",
       "         [0., 1., 0., 0.],\n",
       "         [0., 0., 1., 0.],\n",
       "         [0., 0., 0., 1.],\n",
       "         [1., 0., 0., 0.],\n",
       "         [0., 1., 0., 0.],\n",
       "         [0., 0., 1., 0.],\n",
       "         [0., 0., 0., 1.]],\n",
       "\n",
       "        [[1., 0., 0., 0.],\n",
       "         [0., 1., 0., 0.],\n",
       "         [0., 0., 1., 0.],\n",
       "         [0., 0., 0., 1.],\n",
       "         [1., 0., 0., 0.],\n",
       "         [0., 1., 0., 0.],\n",
       "         [0., 0., 1., 0.],\n",
       "         [0., 0., 0., 1.]]], dtype=torch.float64)"
      ]
     },
     "execution_count": 36,
     "metadata": {},
     "output_type": "execute_result"
    }
   ],
   "source": [
    "states.trans_probs(0)"
   ]
  },
  {
   "cell_type": "code",
   "execution_count": 37,
   "id": "f9febcf1-1e69-478f-8e98-57b3dae04084",
   "metadata": {},
   "outputs": [
    {
     "name": "stdout",
     "output_type": "stream",
     "text": [
      "tensor([[1., 0., 0., 0.],\n",
      "        [0., 1., 0., 0.],\n",
      "        [0., 0., 1., 0.],\n",
      "        [0., 0., 0., 1.],\n",
      "        [1., 0., 0., 0.],\n",
      "        [0., 1., 0., 0.],\n",
      "        [0., 0., 1., 0.],\n",
      "        [0., 0., 0., 1.]], dtype=torch.float64)\n",
      "tensor([[1., 0., 0., 0.],\n",
      "        [0., 1., 0., 0.],\n",
      "        [0., 0., 1., 0.],\n",
      "        [0., 0., 0., 1.],\n",
      "        [1., 0., 0., 0.],\n",
      "        [0., 1., 0., 0.],\n",
      "        [0., 0., 1., 0.],\n",
      "        [0., 0., 0., 1.]], dtype=torch.float64)\n",
      "tensor([[1., 0., 0., 0.],\n",
      "        [0., 1., 0., 0.],\n",
      "        [0., 0., 1., 0.],\n",
      "        [0., 0., 0., 1.],\n",
      "        [1., 0., 0., 0.],\n",
      "        [0., 1., 0., 0.],\n",
      "        [0., 0., 1., 0.],\n",
      "        [0., 0., 0., 1.]], dtype=torch.float64)\n",
      "tensor([[1., 0., 0., 0.],\n",
      "        [0., 1., 0., 0.],\n",
      "        [0., 0., 1., 0.],\n",
      "        [0., 0., 0., 1.],\n",
      "        [1., 0., 0., 0.],\n",
      "        [0., 1., 0., 0.],\n",
      "        [0., 0., 1., 0.],\n",
      "        [0., 0., 0., 1.]], dtype=torch.float64)\n"
     ]
    }
   ],
   "source": [
    "for state in ref:\n",
    "    print(state.trans_prob(0))"
   ]
  },
  {
   "cell_type": "markdown",
   "id": "65a167ee-fd81-46ed-9aa4-0f33b806126f",
   "metadata": {},
   "source": [
    "#### operator evaluate"
   ]
  },
  {
   "cell_type": "code",
   "execution_count": 38,
   "id": "a833e77f-0298-480d-8a42-790cfc80f16d",
   "metadata": {},
   "outputs": [],
   "source": [
    "H = - mdl.lattice.Ht + 5 * mdl.lattice.HJ\n",
    "Ht, HJ = - mdl.lattice.Ht, 5 * mdl.lattice.HJ"
   ]
  },
  {
   "cell_type": "code",
   "execution_count": 39,
   "id": "114fb4fd-847b-4d2e-a548-665533e65484",
   "metadata": {},
   "outputs": [
    {
     "name": "stdout",
     "output_type": "stream",
     "text": [
      "tensor(-3.1569, dtype=torch.float64)\n",
      "tensor(-4.2426, dtype=torch.float64)\n",
      "tensor(-5.6569, dtype=torch.float64)\n",
      "tensor(-2.8284, dtype=torch.float64)\n"
     ]
    }
   ],
   "source": [
    "for state in ref:\n",
    "    print(H.evaluate(state))"
   ]
  },
  {
   "cell_type": "code",
   "execution_count": 40,
   "id": "c6138a1a-f1f9-4dd5-bc5d-6e7481e2652e",
   "metadata": {},
   "outputs": [
    {
     "data": {
      "text/plain": [
       "tensor([-3.1569, -4.2426, -5.6569, -2.8284], dtype=torch.float64)"
      ]
     },
     "execution_count": 40,
     "metadata": {},
     "output_type": "execute_result"
    }
   ],
   "source": [
    "H.evaluates(states)"
   ]
  },
  {
   "cell_type": "code",
   "execution_count": 41,
   "id": "3fd1d2f5-eed5-461d-862e-7e4d6986575e",
   "metadata": {},
   "outputs": [
    {
     "data": {
      "text/plain": [
       "tensor([-3.1569, -4.2426, -5.6569, -2.8284], dtype=torch.float64)"
      ]
     },
     "execution_count": 41,
     "metadata": {},
     "output_type": "execute_result"
    }
   ],
   "source": [
    "Ht.mul_evaluate(states, bilinear=True) + HJ.mul_evaluate(states, bilinear=False)"
   ]
  },
  {
   "cell_type": "markdown",
   "id": "cee3e985-1b9a-4bfb-8698-760fa8dfd06f",
   "metadata": {
    "tags": []
   },
   "source": [
    "## propose & MC"
   ]
  },
  {
   "cell_type": "markdown",
   "id": "7c2df2c5-dd24-4831-b125-46230161dcb1",
   "metadata": {
    "tags": []
   },
   "source": [
    "### propose"
   ]
  },
  {
   "cell_type": "code",
   "execution_count": 42,
   "id": "76f65df3-c6bd-4f68-ae18-ef1745a16974",
   "metadata": {},
   "outputs": [
    {
     "data": {
      "text/plain": [
       "VariationalStates([[0, 5, 2, 7], [4, 1, 6, 7], [4, 5, 6, 7], [4, 5, 2, 3]])"
      ]
     },
     "execution_count": 42,
     "metadata": {},
     "output_type": "execute_result"
    }
   ],
   "source": [
    "states"
   ]
  },
  {
   "cell_type": "code",
   "execution_count": 43,
   "id": "d01e2c54-949e-4ae5-880a-b07ba8126b3c",
   "metadata": {},
   "outputs": [
    {
     "name": "stdout",
     "output_type": "stream",
     "text": [
      "VariationalStates([[0, 5, 6, 7], [4, 1, 6, 7], [4, 5, 2, 7], [0, 5, 2, 3]])\n",
      "VariationalStates([[0, 5, 6, 7], [4, 1, 2, 7], [4, 5, 2, 7], [0, 5, 2, 7]])\n",
      "VariationalStates([[0, 5, 6, 7], [4, 1, 6, 7], [4, 5, 2, 7], [0, 5, 2, 7]])\n",
      "VariationalStates([[0, 5, 6, 7], [4, 1, 6, 3], [4, 1, 2, 7], [0, 5, 2, 7]])\n",
      "VariationalStates([[0, 5, 6, 7], [4, 1, 6, 3], [4, 5, 2, 7], [0, 5, 2, 7]])\n",
      "VariationalStates([[0, 5, 6, 7], [4, 1, 6, 7], [4, 1, 2, 7], [4, 5, 2, 7]])\n",
      "VariationalStates([[0, 5, 6, 7], [4, 5, 6, 7], [4, 5, 2, 7], [4, 5, 2, 7]])\n",
      "VariationalStates([[0, 5, 6, 7], [4, 1, 6, 7], [4, 5, 6, 7], [4, 5, 2, 7]])\n",
      "VariationalStates([[0, 5, 6, 7], [4, 1, 6, 7], [4, 1, 6, 7], [4, 5, 2, 7]])\n",
      "VariationalStates([[0, 5, 6, 7], [4, 1, 6, 7], [4, 1, 6, 3], [4, 5, 2, 7]])\n"
     ]
    }
   ],
   "source": [
    "for _ in range(10): \n",
    "    states = mdl.proposes1(states)\n",
    "    print(states)"
   ]
  },
  {
   "cell_type": "code",
   "execution_count": 44,
   "id": "347ff112-9db6-4bd9-9a38-99d87cb6b82a",
   "metadata": {},
   "outputs": [
    {
     "name": "stdout",
     "output_type": "stream",
     "text": [
      "VariationalStates([[0, 1, 6, 7], [4, 1, 6, 3], [4, 1, 2, 3], [4, 1, 6, 7]])\n",
      "VariationalStates([[4, 5, 6, 7], [4, 1, 6, 7], [4, 1, 6, 3], [4, 1, 2, 7]])\n",
      "VariationalStates([[0, 5, 6, 7], [4, 5, 6, 7], [4, 5, 6, 7], [4, 1, 2, 3]])\n",
      "VariationalStates([[0, 1, 6, 7], [0, 1, 6, 7], [0, 5, 6, 3], [6, 1, 4, 3]])\n",
      "VariationalStates([[0, 1, 6, 7], [0, 1, 6, 7], [0, 5, 6, 7], [6, 1, 4, 7]])\n",
      "VariationalStates([[0, 1, 6, 7], [0, 1, 6, 7], [0, 1, 6, 7], [2, 1, 0, 7]])\n",
      "VariationalStates([[2, 1, 6, 5], [0, 1, 6, 7], [0, 1, 6, 7], [2, 7, 0, 5]])\n",
      "VariationalStates([[0, 1, 6, 7], [4, 1, 6, 7], [4, 1, 6, 7], [2, 1, 6, 5]])\n",
      "VariationalStates([[2, 1, 4, 7], [2, 1, 0, 7], [4, 1, 2, 7], [2, 3, 4, 5]])\n",
      "VariationalStates([[2, 1, 4, 3], [2, 1, 0, 7], [4, 1, 6, 7], [2, 3, 4, 5]])\n"
     ]
    }
   ],
   "source": [
    "for _ in range(10): \n",
    "    states = mdl.proposes2(states)\n",
    "    print(states)"
   ]
  },
  {
   "cell_type": "markdown",
   "id": "70609dda-6c55-4593-a2fb-2572e7a23177",
   "metadata": {},
   "source": [
    "#### propose uniformly"
   ]
  },
  {
   "cell_type": "code",
   "execution_count": 6,
   "id": "26ad456e-1291-46da-95c5-bf4fc1689284",
   "metadata": {},
   "outputs": [
    {
     "name": "stdout",
     "output_type": "stream",
     "text": [
      "[0, 1, 2, 3]    228 105.263\n",
      "[0, 1, 2, 7]    202 210.526\n",
      "[0, 1, 3, 6]    203 210.526\n",
      "[0, 1, 6, 7]    194 421.053\n",
      "[0, 2, 3, 5]    206 210.526\n",
      "[0, 2, 5, 7]    221 105.263\n",
      "[0, 3, 4, 7]    225 105.263\n",
      "[0, 3, 5, 6]    218 421.053\n",
      "[0, 5, 6, 7]    180 210.526\n",
      "[1, 2, 3, 4]    236 210.526\n",
      "[1, 2, 4, 7]    240 421.053\n",
      "[1, 2, 5, 6]    330 105.263\n",
      "[1, 3, 4, 6]    230 105.263\n",
      "[1, 4, 6, 7]    246 210.526\n",
      "[2, 3, 4, 5]    177 421.053\n",
      "[2, 4, 5, 7]    222 210.526\n",
      "[3, 4, 5, 6]    213 210.526\n",
      "[4, 5, 6, 7]    233 105.263\n"
     ]
    }
   ],
   "source": [
    "mdl = VariationalModel(1)\n",
    "states = mdl.states(wlks=4)\n",
    "configs = []\n",
    "for config in states.configs:\n",
    "    configs.append(sorted(config))\n",
    "N=1000\n",
    "for _ in range(N):\n",
    "    states = mdl.MCsteps(states)\n",
    "    for config in states.configs:\n",
    "        configs.append(sorted(config))\n",
    "configs, counts = torch.unique(torch.tensor(configs), return_counts=True, dim=0)\n",
    "ps = torch.stack([mdl.state(config.tolist()).logprob.exp() for config in configs])\n",
    "ps = ps/ ps.sum()\n",
    "for config, count, p in zip(configs, counts, ps):\n",
    "    print('{} {:6d} {:6.3f}'.format(config.tolist(), count.item(), p.item()*N*4))"
   ]
  },
  {
   "cell_type": "markdown",
   "id": "a2ab36b6-4dd7-43a8-b1d2-a6d4e2025bcc",
   "metadata": {},
   "source": [
    "#### propose base on probs"
   ]
  },
  {
   "cell_type": "code",
   "execution_count": 2,
   "id": "3cce1ea4-f33a-455c-85ca-44397ab0cacf",
   "metadata": {},
   "outputs": [
    {
     "name": "stdout",
     "output_type": "stream",
     "text": [
      "[0, 1, 2, 3]    153 105.263\n",
      "[0, 1, 2, 7]    211 210.526\n",
      "[0, 1, 3, 6]    233 210.526\n",
      "[0, 1, 6, 7]    417 421.053\n",
      "[0, 2, 3, 5]    201 210.526\n",
      "[0, 2, 5, 7]     87 105.263\n",
      "[0, 3, 4, 7]     45 105.263\n",
      "[0, 3, 5, 6]    444 421.053\n",
      "[0, 5, 6, 7]    217 210.526\n",
      "[1, 2, 3, 4]    212 210.526\n",
      "[1, 2, 4, 7]    428 421.053\n",
      "[1, 2, 5, 6]     50 105.263\n",
      "[1, 3, 4, 6]    107 105.263\n",
      "[1, 4, 6, 7]    191 210.526\n",
      "[2, 3, 4, 5]    447 421.053\n",
      "[2, 4, 5, 7]    215 210.526\n",
      "[3, 4, 5, 6]    232 210.526\n",
      "[4, 5, 6, 7]    114 105.263\n"
     ]
    }
   ],
   "source": [
    "mdl = VariationalModel(1)\n",
    "states = mdl.states(wlks=4)\n",
    "configs = []\n",
    "for config in states.configs:\n",
    "    configs.append(sorted(config))\n",
    "N=1000\n",
    "for _ in range(N):\n",
    "    states, _ = mdl.MCsteps(states, carry_prob=True, flatten=False) # flatten=True flattens the trans_probs\n",
    "    for config in states.configs:\n",
    "        configs.append(sorted(config))\n",
    "configs, counts = torch.unique(torch.tensor(configs), return_counts=True, dim=0)\n",
    "ps = torch.stack([mdl.state(config.tolist()).logprob.exp() for config in configs])\n",
    "ps = ps/ ps.sum()\n",
    "for config, count, p in zip(configs, counts, ps):\n",
    "    print('{} {:6d} {:6.3f}'.format(config.tolist(), count.item(), p.item()*N*4))"
   ]
  },
  {
   "cell_type": "markdown",
   "id": "5f83ffa5-e91c-43d2-a20e-8a00673886d9",
   "metadata": {
    "tags": []
   },
   "source": [
    "### MC"
   ]
  },
  {
   "cell_type": "markdown",
   "id": "58b66442-886e-4283-be6b-86e78eefcb29",
   "metadata": {
    "tags": []
   },
   "source": [
    "#### single"
   ]
  },
  {
   "cell_type": "code",
   "execution_count": 45,
   "id": "ed1a0bcc-c6a4-4fce-a09a-f880b1a2845a",
   "metadata": {},
   "outputs": [
    {
     "name": "stdout",
     "output_type": "stream",
     "text": [
      "obj = 0.07619517899186247 energy = -1.0386753236814703 rejection rate = 0.0\n",
      "obj = -0.07106963887783413 energy = -1.114687703307087 rejection rate = 0.0\n",
      "obj = -0.19183396829238106 energy = -1.241232655158063 rejection rate = 0.0\n",
      "obj = -0.21493013471364997 energy = -1.3538833177368097 rejection rate = 0.0\n",
      "obj = -0.20179257598226757 energy = -1.4088198516855885 rejection rate = 0.0\n",
      "seconds = 28.235057830810547\n",
      "[0, 1, 2, 3] -0.09661514682141815\n",
      "[0, 1, 2, 7] -0.10267383717022718\n",
      "[0, 1, 3, 6] 0.10267383717022723\n",
      "[0, 1, 6, 7] -0.06432404729840845\n",
      "[0, 2, 3, 5] -0.10267383717022718\n",
      "[0, 2, 5, 7] 0.04508481364616929\n",
      "[0, 3, 4, 7] 0.41948531840554265\n",
      "[0, 3, 5, 6] -0.5161004652269611\n",
      "[0, 5, 6, 7] -0.10267383717022723\n",
      "[1, 2, 3, 4] 0.10267383717022714\n",
      "[1, 2, 4, 7] -0.5161004652269606\n",
      "[1, 2, 5, 6] 0.41948531840554265\n",
      "[1, 3, 4, 6] 0.04508481364616929\n",
      "[1, 4, 6, 7] 0.10267383717022718\n",
      "[2, 3, 4, 5] -0.06432404729840843\n",
      "[2, 4, 5, 7] -0.10267383717022714\n",
      "[3, 4, 5, 6] 0.10267383717022723\n",
      "[4, 5, 6, 7] -0.0966151468214182\n",
      "energy = -1.5435397838651843 normalization factor = 0.0155493691374663 fidelity = 0.9747007632624568\n"
     ]
    }
   ],
   "source": [
    "mdl = VariationalModel(1)\n",
    "H = -0.2* mdl.lattice.Ht + mdl.lattice.HJ\n",
    "state = mdl.MCrun(steps=10).reset()\n",
    "optimizer = torch.optim.Adam(mdl.parameters(), lr=0.01)\n",
    "start = time.time()\n",
    "for iteration in range(200):\n",
    "    obj, Hval, state = mdl.MCrun(H=H, state=state, steps=100)\n",
    "    loss = obj #- Hval.detach()\n",
    "    optimizer.zero_grad()\n",
    "    loss.backward()\n",
    "    optimizer.step()\n",
    "    if iteration%49 ==0:\n",
    "        print('obj =', loss.item(), 'energy =', Hval.item(), 'rejection rate =',mdl._rejects/mdl._step)\n",
    "    mdl.reset()\n",
    "    state.reset()\n",
    "end = time.time()\n",
    "print('seconds =',end - start)\n",
    "test(mdl)"
   ]
  },
  {
   "cell_type": "markdown",
   "id": "8287fa96-48ba-4d2f-bb80-4b7fcd6c4c90",
   "metadata": {},
   "source": [
    "#### parallel"
   ]
  },
  {
   "cell_type": "code",
   "execution_count": 2,
   "id": "4a1f8ea6-8e5d-4998-9004-709b03e40f17",
   "metadata": {
    "tags": []
   },
   "outputs": [
    {
     "name": "stdout",
     "output_type": "stream",
     "text": [
      "obj = -0.1424253018659898 rejection rate = 0.16\n"
     ]
    },
    {
     "data": {
      "image/png": "[encoded data removed]",
      "text/plain": [
       "<Figure size 432x288 with 1 Axes>"
      ]
     },
     "metadata": {
      "needs_background": "light"
     },
     "output_type": "display_data"
    },
    {
     "name": "stdout",
     "output_type": "stream",
     "text": [
      "obj = 0.0399209110385975 rejection rate = 0.24000000000000005\n"
     ]
    },
    {
     "data": {
      "image/png": "[encoded data removed]",
      "text/plain": [
       "<Figure size 432x288 with 1 Axes>"
      ]
     },
     "metadata": {
      "needs_background": "light"
     },
     "output_type": "display_data"
    },
    {
     "name": "stdout",
     "output_type": "stream",
     "text": [
      "obj = -0.0700921463439251 rejection rate = 0.12000000000000002\n"
     ]
    },
    {
     "data": {
      "image/png": "[encoded data removed]",
      "text/plain": [
       "<Figure size 432x288 with 1 Axes>"
      ]
     },
     "metadata": {
      "needs_background": "light"
     },
     "output_type": "display_data"
    },
    {
     "name": "stdout",
     "output_type": "stream",
     "text": [
      "seconds = 3.8027329444885254\n",
      "[0, 1, 2, 3] 0.09318873734599992\n",
      "[0, 1, 2, 7] 0.093079842461682\n",
      "[0, 1, 3, 6] -0.09307984246168195\n",
      "[0, 1, 6, 7] 0.08927387680140378\n",
      "[0, 2, 3, 5] 0.09307984246168195\n",
      "[0, 2, 5, 7] -0.038520157952573006\n",
      "[0, 3, 4, 7] -0.4239716378070571\n",
      "[0, 3, 5, 6] 0.5171603751530566\n",
      "[0, 5, 6, 7] 0.09307984246168191\n",
      "[1, 2, 3, 4] -0.09307984246168195\n",
      "[1, 2, 4, 7] 0.5171603751530569\n",
      "[1, 2, 5, 6] -0.42397163780705666\n",
      "[1, 3, 4, 6] -0.038520157952573006\n",
      "[1, 4, 6, 7] -0.09307984246168195\n",
      "[2, 3, 4, 5] 0.08927387680140372\n",
      "[2, 4, 5, 7] 0.09307984246168191\n",
      "[3, 4, 5, 6] -0.09307984246168187\n",
      "[4, 5, 6, 7] 0.09318873734599983\n",
      "energy = -1.5426283189283154 normalization factor = 0.016307738930630866 fidelity = 0.9768084710931009\n"
     ]
    }
   ],
   "source": [
    "mdl = VariationalModel(1)\n",
    "H = (-0.2 * mdl.lattice.Ht, mdl.lattice.HJ)\n",
    "states = mdl.MCruns(steps=20, wlks=20, carry_prob=True, flatten=False).reset()\n",
    "optimizer = torch.optim.Adam(mdl.parameters(), lr=0.01)\n",
    "start = time.time()\n",
    "for iteration in range(200):\n",
    "    obj, MCenergy, states = mdl.MCruns(H=H, cut=(None, None), states=states, steps=5, carry_prob=True, flatten=False)\n",
    "    loss = obj #- Hval.detach()\n",
    "    optimizer.zero_grad()\n",
    "    loss.backward()\n",
    "    optimizer.step()\n",
    "    if iteration%50 ==0 and iteration > 5:\n",
    "        print('obj =', loss.item(), 'rejection rate =',mdl._rejects/mdl._step)\n",
    "        mdl.show()\n",
    "    mdl.record()\n",
    "    mdl.reset()\n",
    "    states.reset()\n",
    "end = time.time()\n",
    "print('seconds =',end - start)\n",
    "test(mdl)"
   ]
  },
  {
   "cell_type": "markdown",
   "id": "45ed0f5a-a3d3-4f8c-acc2-4c0bf4471be6",
   "metadata": {
    "tags": []
   },
   "source": [
    "## sampling test"
   ]
  },
  {
   "cell_type": "markdown",
   "id": "8158d66d-59a2-449a-9cd9-9d05d32af34e",
   "metadata": {
    "tags": []
   },
   "source": [
    "#### sampling L = 8, steps = 100"
   ]
  },
  {
   "cell_type": "code",
   "execution_count": 4,
   "id": "0db0e81f-c3bf-47a1-abd9-f666cea0372b",
   "metadata": {},
   "outputs": [
    {
     "name": "stdout",
     "output_type": "stream",
     "text": [
      "seconds = 0.2823817729949951\n"
     ]
    }
   ],
   "source": [
    "mdl = VariationalModel(8)\n",
    "H = -0.2* mdl.lattice.Ht + mdl.lattice.HJ\n",
    "start = time.time()\n",
    "state = mdl.MCrun(steps=100).reset()\n",
    "end = time.time()\n",
    "print('seconds =',end - start)"
   ]
  },
  {
   "cell_type": "code",
   "execution_count": 5,
   "id": "f30bf17d-52bd-4101-b38e-6a185c898927",
   "metadata": {},
   "outputs": [
    {
     "data": {
      "text/plain": [
       "VariationalState([396, 392, 184, 460, 352, 296, 492, 280, 336, 20, 504, 132, 500, 340, 84, 72, 208, 96, 42, 408, 258, 308, 104, 204, 244, 228, 466, 192, 232, 268, 112, 168, 484, 0, 248, 320, 76, 12, 472, 488, 288, 342, 128, 156, 508, 92, 144, 444, 368, 412, 4, 44, 188, 28, 264, 496, 436, 376, 306, 292, 456, 36, 56, 152, 249, 109, 433, 401, 25, 73, 237, 17, 57, 409, 213, 121, 153, 333, 505, 5, 499, 37, 509, 45, 317, 373, 293, 357, 397, 181, 425, 309, 389, 29, 285, 93, 117, 231, 101, 133, 417, 193, 241, 97, 77, 465, 189, 217, 289, 381, 53, 165, 201, 325, 405, 209, 197, 489, 441, 365, 457, 413, 81, 1, 221, 173, 71, 353, 32, 142, 214, 222, 302, 146, 266, 274, 314, 422, 318, 348, 294, 58, 426, 478, 262, 290, 18, 286, 34, 118, 10, 122, 366, 510, 386, 322, 390, 270, 394, 14, 278, 174, 166, 170, 238, 54, 190, 418, 362, 198, 66, 430, 382, 370, 88, 406, 98, 346, 30, 206, 450, 282, 226, 246, 438, 6, 38, 94, 498, 178, 70, 250, 303, 335, 235, 139, 203, 391, 155, 467, 387, 51, 455, 83, 115, 205, 151, 395, 47, 35, 163, 411, 459, 267, 407, 503, 107, 423, 15, 159, 383, 131, 327, 479, 493, 447, 341, 255, 427, 275, 259, 127, 183, 143, 247, 419, 85, 3, 287, 283, 375, 435, 21, 487, 187, 59, 279, 171, 463, 299, 227, 291, 263, 371, 367, 79])"
      ]
     },
     "execution_count": 5,
     "metadata": {},
     "output_type": "execute_result"
    }
   ],
   "source": [
    "state"
   ]
  },
  {
   "cell_type": "code",
   "execution_count": 6,
   "id": "32f94fb6-2576-4bd0-b266-7ec38d5c5f0d",
   "metadata": {},
   "outputs": [
    {
     "name": "stdout",
     "output_type": "stream",
     "text": [
      "walkers =  1 seconds =  0.2956421375274658 seconds per walker =  0.2956421375274658\n",
      "walkers =  2 seconds =  0.43195486068725586 seconds per walker =  0.21597743034362793\n",
      "walkers =  3 seconds =  0.6100442409515381 seconds per walker =  0.20334808031717935\n",
      "walkers =  4 seconds =  0.7423610687255859 seconds per walker =  0.18559026718139648\n",
      "walkers =  5 seconds =  0.9443550109863281 seconds per walker =  0.18887100219726563\n",
      "walkers =  6 seconds =  1.1135120391845703 seconds per walker =  0.18558533986409506\n",
      "walkers =  7 seconds =  1.3126788139343262 seconds per walker =  0.18752554484776088\n",
      "walkers =  8 seconds =  1.4951839447021484 seconds per walker =  0.18689799308776855\n",
      "walkers =  9 seconds =  1.829981803894043 seconds per walker =  0.20333131154378256\n",
      "walkers =  10 seconds =  2.1673970222473145 seconds per walker =  0.21673970222473143\n",
      "walkers =  11 seconds =  2.2122578620910645 seconds per walker =  0.20111435109918768\n",
      "walkers =  12 seconds =  2.3848578929901123 seconds per walker =  0.19873815774917603\n",
      "walkers =  13 seconds =  2.566671848297119 seconds per walker =  0.1974362960228553\n",
      "walkers =  14 seconds =  2.8464488983154297 seconds per walker =  0.20331777845110213\n",
      "walkers =  15 seconds =  3.1729729175567627 seconds per walker =  0.2115315278371175\n",
      "walkers =  16 seconds =  3.339495897293091 seconds per walker =  0.20871849358081818\n",
      "walkers =  17 seconds =  3.5596120357513428 seconds per walker =  0.20938894327949076\n",
      "walkers =  18 seconds =  3.791813850402832 seconds per walker =  0.21065632502237955\n",
      "walkers =  19 seconds =  4.019001722335815 seconds per walker =  0.21152640643872714\n",
      "walkers =  20 seconds =  4.321230888366699 seconds per walker =  0.21606154441833497\n"
     ]
    }
   ],
   "source": [
    "for n in range(1, 21):    \n",
    "    mdl = VariationalModel(8)\n",
    "    H = -0.2* mdl.lattice.Ht + mdl.lattice.HJ\n",
    "    start = time.time()\n",
    "    states = mdl.MCruns(steps=100, wlks=n).reset()\n",
    "    end = time.time()\n",
    "    print('walkers = ',n,'seconds = ',end - start, 'seconds per walker = ', (end - start)/n)"
   ]
  },
  {
   "cell_type": "code",
   "execution_count": 7,
   "id": "a8bd2249-09f6-484f-9a50-145435a79f0b",
   "metadata": {},
   "outputs": [
    {
     "data": {
      "text/plain": [
       "20"
      ]
     },
     "execution_count": 7,
     "metadata": {},
     "output_type": "execute_result"
    }
   ],
   "source": [
    "len(states.configs)"
   ]
  }
 ],
 "metadata": {
  "kernelspec": {
   "display_name": "Python 3 (ipykernel)",
   "language": "python",
   "name": "python3"
  },
  "language_info": {
   "codemirror_mode": {
    "name": "ipython",
    "version": 3
   },
   "file_extension": ".py",
   "mimetype": "text/x-python",
   "name": "python",
   "nbconvert_exporter": "python",
   "pygments_lexer": "ipython3",
   "version": "3.10.4"
  }
 },
 "nbformat": 4,
 "nbformat_minor": 5
}
